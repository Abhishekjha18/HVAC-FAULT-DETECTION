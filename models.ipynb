{
 "cells": [
  {
   "cell_type": "code",
   "execution_count": 1,
   "metadata": {},
   "outputs": [],
   "source": [
    "import pandas as pd\n",
    "import numpy as np\n",
    "import matplotlib.pyplot as plt\n",
    "import seaborn as sns\n",
    "\n",
    "from sklearn.model_selection import train_test_split\n",
    "from sklearn.preprocessing import StandardScaler\n",
    "from sklearn.linear_model import LogisticRegression\n",
    "from sklearn.ensemble import RandomForestClassifier\n",
    "from sklearn.svm import SVC\n",
    "from sklearn.tree import DecisionTreeClassifier\n",
    "from sklearn.neighbors import KNeighborsClassifier\n",
    "from sklearn.neural_network import MLPClassifier\n",
    "\n",
    "from sklearn.metrics import accuracy_score\n",
    "from sklearn.metrics import confusion_matrix\n",
    "from sklearn.metrics import classification_report\n"
   ]
  },
  {
   "cell_type": "code",
   "execution_count": 2,
   "metadata": {},
   "outputs": [],
   "source": [
    "df = pd.read_csv('C:\\Documents\\ST AiOT\\datasets\\Data Sets for AFDD Evauluation of Building FDD Algorithms\\MZVAV-1.csv')\n",
    "\n",
    "# Drop the date column\n",
    "df = df.drop('Datetime', axis=1)\n",
    "\n",
    "\n",
    "# scale the data\n",
    "scaler = StandardScaler()\n",
    "\n",
    "#split using train_test_split\n",
    "\n",
    "Y = df['Fault Detection Ground Truth']\n",
    "\n",
    "X = df.drop('Fault Detection Ground Truth', axis=1)\n",
    "\n",
    "#split the data\n",
    "\n",
    "X_train, X_test, Y_train, Y_test = train_test_split(X, Y, test_size=0.2, random_state=42)\n",
    "\n",
    "\n",
    "# Fit only to the training data scaler \n",
    "scaler.fit(X_train)\n",
    "\n",
    "# Now apply the transformations to the data:\n",
    "X_train = scaler.transform(X_train)\n",
    "X_test = scaler.transform(X_test)\n"
   ]
  },
  {
   "cell_type": "code",
   "execution_count": 3,
   "metadata": {},
   "outputs": [
    {
     "name": "stdout",
     "output_type": "stream",
     "text": [
      "Logistic Regression Accuracy: 0.8586676954732511\n",
      "Logistic Regression F1 Score:               precision    recall  f1-score   support\n",
      "\n",
      "           0       0.00      0.00      0.00      7693\n",
      "           1       0.86      1.00      0.92     46739\n",
      "\n",
      "    accuracy                           0.86     54432\n",
      "   macro avg       0.43      0.50      0.46     54432\n",
      "weighted avg       0.74      0.86      0.79     54432\n",
      "\n",
      "\n",
      "\n",
      "\n"
     ]
    },
    {
     "name": "stderr",
     "output_type": "stream",
     "text": [
      "c:\\Users\\HP\\AppData\\Local\\Programs\\Python\\Python311\\Lib\\site-packages\\sklearn\\metrics\\_classification.py:1469: UndefinedMetricWarning: Precision and F-score are ill-defined and being set to 0.0 in labels with no predicted samples. Use `zero_division` parameter to control this behavior.\n",
      "  _warn_prf(average, modifier, msg_start, len(result))\n",
      "c:\\Users\\HP\\AppData\\Local\\Programs\\Python\\Python311\\Lib\\site-packages\\sklearn\\metrics\\_classification.py:1469: UndefinedMetricWarning: Precision and F-score are ill-defined and being set to 0.0 in labels with no predicted samples. Use `zero_division` parameter to control this behavior.\n",
      "  _warn_prf(average, modifier, msg_start, len(result))\n",
      "c:\\Users\\HP\\AppData\\Local\\Programs\\Python\\Python311\\Lib\\site-packages\\sklearn\\metrics\\_classification.py:1469: UndefinedMetricWarning: Precision and F-score are ill-defined and being set to 0.0 in labels with no predicted samples. Use `zero_division` parameter to control this behavior.\n",
      "  _warn_prf(average, modifier, msg_start, len(result))\n"
     ]
    },
    {
     "name": "stdout",
     "output_type": "stream",
     "text": [
      "Random Forest Accuracy: 0.9900058788947678\n",
      "Random Forest F1 Score:               precision    recall  f1-score   support\n",
      "\n",
      "           0       0.99      0.94      0.96      7693\n",
      "           1       0.99      1.00      0.99     46739\n",
      "\n",
      "    accuracy                           0.99     54432\n",
      "   macro avg       0.99      0.97      0.98     54432\n",
      "weighted avg       0.99      0.99      0.99     54432\n",
      "\n",
      "\n",
      "\n",
      "\n",
      "SVM Accuracy: 0.8586676954732511\n",
      "SVM F1 Score:               precision    recall  f1-score   support\n",
      "\n",
      "           0       0.00      0.00      0.00      7693\n",
      "           1       0.86      1.00      0.92     46739\n",
      "\n",
      "    accuracy                           0.86     54432\n",
      "   macro avg       0.43      0.50      0.46     54432\n",
      "weighted avg       0.74      0.86      0.79     54432\n",
      "\n",
      "\n",
      "\n",
      "\n"
     ]
    },
    {
     "name": "stderr",
     "output_type": "stream",
     "text": [
      "c:\\Users\\HP\\AppData\\Local\\Programs\\Python\\Python311\\Lib\\site-packages\\sklearn\\metrics\\_classification.py:1469: UndefinedMetricWarning: Precision and F-score are ill-defined and being set to 0.0 in labels with no predicted samples. Use `zero_division` parameter to control this behavior.\n",
      "  _warn_prf(average, modifier, msg_start, len(result))\n",
      "c:\\Users\\HP\\AppData\\Local\\Programs\\Python\\Python311\\Lib\\site-packages\\sklearn\\metrics\\_classification.py:1469: UndefinedMetricWarning: Precision and F-score are ill-defined and being set to 0.0 in labels with no predicted samples. Use `zero_division` parameter to control this behavior.\n",
      "  _warn_prf(average, modifier, msg_start, len(result))\n",
      "c:\\Users\\HP\\AppData\\Local\\Programs\\Python\\Python311\\Lib\\site-packages\\sklearn\\metrics\\_classification.py:1469: UndefinedMetricWarning: Precision and F-score are ill-defined and being set to 0.0 in labels with no predicted samples. Use `zero_division` parameter to control this behavior.\n",
      "  _warn_prf(average, modifier, msg_start, len(result))\n"
     ]
    },
    {
     "name": "stdout",
     "output_type": "stream",
     "text": [
      "Decision Tree Accuracy: 0.9893445032333921\n",
      "Decision Tree F1 Score:               precision    recall  f1-score   support\n",
      "\n",
      "           0       0.96      0.96      0.96      7693\n",
      "           1       0.99      0.99      0.99     46739\n",
      "\n",
      "    accuracy                           0.99     54432\n",
      "   macro avg       0.98      0.98      0.98     54432\n",
      "weighted avg       0.99      0.99      0.99     54432\n",
      "\n",
      "\n",
      "\n",
      "\n",
      "KNN Accuracy: 0.9880217519106408\n",
      "KNN F1 Score:               precision    recall  f1-score   support\n",
      "\n",
      "           0       0.98      0.94      0.96      7693\n",
      "           1       0.99      1.00      0.99     46739\n",
      "\n",
      "    accuracy                           0.99     54432\n",
      "   macro avg       0.98      0.97      0.97     54432\n",
      "weighted avg       0.99      0.99      0.99     54432\n",
      "\n",
      "\n",
      "\n",
      "\n"
     ]
    },
    {
     "name": "stderr",
     "output_type": "stream",
     "text": [
      "c:\\Users\\HP\\AppData\\Local\\Programs\\Python\\Python311\\Lib\\site-packages\\sklearn\\neural_network\\_multilayer_perceptron.py:691: ConvergenceWarning: Stochastic Optimizer: Maximum iterations (200) reached and the optimization hasn't converged yet.\n",
      "  warnings.warn(\n"
     ]
    },
    {
     "name": "stdout",
     "output_type": "stream",
     "text": [
      "MLP Accuracy: 0.9004445914168137\n",
      "MLP F1 Score:               precision    recall  f1-score   support\n",
      "\n",
      "           0       0.81      0.38      0.52      7693\n",
      "           1       0.91      0.99      0.94     46739\n",
      "\n",
      "    accuracy                           0.90     54432\n",
      "   macro avg       0.86      0.69      0.73     54432\n",
      "weighted avg       0.89      0.90      0.88     54432\n",
      "\n",
      "\n",
      "\n",
      "\n"
     ]
    }
   ],
   "source": [
    "# train and evaluate the model\n",
    "\n",
    "models = {\n",
    "    'Logistic Regression': LogisticRegression(),\n",
    "    'Random Forest': RandomForestClassifier(),\n",
    "    'SVM': SVC(),\n",
    "    'Decision Tree': DecisionTreeClassifier(),\n",
    "    'KNN': KNeighborsClassifier(),\n",
    "    'MLP': MLPClassifier()\n",
    "}\n",
    "\n",
    "for name, model in models.items():\n",
    "    model.fit(X_train, Y_train)\n",
    "    Y_pred = model.predict(X_test)\n",
    "    print(f'{name} Accuracy: {accuracy_score(Y_test, Y_pred)}')\n",
    "    #f1 score\n",
    "    print(f'{name} F1 Score: {classification_report(Y_test, Y_pred)}')\n",
    "    print('\\n\\n')\n"
   ]
  }
 ],
 "metadata": {
  "kernelspec": {
   "display_name": "Python 3",
   "language": "python",
   "name": "python3"
  },
  "language_info": {
   "codemirror_mode": {
    "name": "ipython",
    "version": 3
   },
   "file_extension": ".py",
   "mimetype": "text/x-python",
   "name": "python",
   "nbconvert_exporter": "python",
   "pygments_lexer": "ipython3",
   "version": "3.11.4"
  }
 },
 "nbformat": 4,
 "nbformat_minor": 2
}
